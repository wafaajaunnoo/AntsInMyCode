{
  "nbformat": 4,
  "nbformat_minor": 0,
  "metadata": {
    "colab": {
      "provenance": []
    },
    "kernelspec": {
      "name": "python3",
      "display_name": "Python 3"
    },
    "language_info": {
      "name": "python"
    }
  },
  "cells": [
    {
      "cell_type": "markdown",
      "source": [
        "# 3. Intuition of the algorithm's operation\n",
        "In this section, I describe the optimization algorithm I implemented and I provide an intuition on how it works for the TSP I formulated previously.\n",
        "\n",
        "## 3.1 Ant Colony Optimization\n",
        "\n",
        "### A brief Overview\n",
        "\n",
        "### The Algorithm\n",
        "I begin the algorithm by first initializing  a pheromone trail between all cities.  The algorithm brings in a number of ants, each of which will navigate the search space randomly, leaving pheromone behind, until they have visited all cities. I proceed the algorithm by depositing the most pheromone on the shortest path found by the ants.  This will make it more likely that other ants will follow that path in the future.  I repeat this process for a number of iterations.  Later on, I converge the algorithm on the shortest path.  To help visualize the solution and better understand how the algorithm works, I print the cheapest path and its length.  I also plot the cheapest path on a labelled 3D subplot that is embedded within a larger graph.\n",
        "\n",
        "## 3.2 Steps\n",
        "\n",
        "read how [this repo](https://github.com/Akavall/AntColonyOptimization/blob/master/README.md) explains the algorithm.\n",
        "\n",
        "**Step 1:**\n",
        "\n",
        "**Step 2:**\n",
        "\n",
        "**Step n:**\n",
        "\n",
        "## 3.3 Pseudocode\n",
        "The algorithm can be defined as follows:\n",
        "\n",
        "```\n",
        "# function\n",
        "    do while\n",
        "  end\n",
        "```"
      ],
      "metadata": {
        "id": "ijWkBRuQPSfH"
      }
    }
  ]
}